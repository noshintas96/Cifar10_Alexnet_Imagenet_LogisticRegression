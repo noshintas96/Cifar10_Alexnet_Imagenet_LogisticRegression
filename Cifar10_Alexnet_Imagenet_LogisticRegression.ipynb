{
 "cells": [
  {
   "cell_type": "markdown",
   "id": "34d74984",
   "metadata": {},
   "source": [
    "Fisrt of all, I will download the Cifar 10 dataset and prepare the data for the further tasks."
   ]
  },
  {
   "cell_type": "code",
   "execution_count": 1,
   "id": "zHQraQI1P1hp",
   "metadata": {
    "id": "zHQraQI1P1hp"
   },
   "outputs": [],
   "source": [
    "# importing libraries\n",
    "import numpy as np\n",
    "import matplotlib.pyplot as plt\n",
    "%matplotlib inline\n",
    "import pickle\n",
    "import math\n",
    "\n",
    "from sklearn.metrics import confusion_matrix\n",
    "import seaborn as sn\n",
    "import pandas as pd\n",
    "\n",
    "import torch\n",
    "import torchvision\n",
    "import torch.nn as nn\n",
    "import torch.nn.functional as F\n",
    "import torchvision.transforms as transforms\n",
    "import torchvision.models as models\n",
    "torch.manual_seed(55)\n",
    "\n",
    "from torch.utils.data import DataLoader\n",
    "from torch import optim\n",
    "\n",
    "from tqdm.auto import tqdm\n",
    "\n",
    "from sklearn.linear_model import LogisticRegression"
   ]
  },
  {
   "cell_type": "code",
   "execution_count": 2,
   "id": "58310e6a",
   "metadata": {
    "colab": {
     "base_uri": "https://localhost:8080/"
    },
    "id": "58310e6a",
    "outputId": "791a715b-0108-42b5-c18f-dbf1dccf7950"
   },
   "outputs": [
    {
     "name": "stdout",
     "output_type": "stream",
     "text": [
      "Drive already mounted at /content/drive; to attempt to forcibly remount, call drive.mount(\"/content/drive\", force_remount=True).\n"
     ]
    }
   ],
   "source": [
    "from google.colab import drive\n",
    "drive.mount('/content/drive')"
   ]
  },
  {
   "cell_type": "markdown",
   "id": "8d07f556",
   "metadata": {
    "id": "8d07f556"
   },
   "source": [
    "I have downloaded the dataset and will perform unpickle on the files. Then, i will separetely create the train, validation and test sets."
   ]
  },
  {
   "cell_type": "code",
   "execution_count": 3,
   "id": "67d2ed17",
   "metadata": {
    "id": "67d2ed17"
   },
   "outputs": [],
   "source": [
    "path = \"/content/drive/My Drive/cifar-10-batches-py\"\n",
    "\n",
    "# read in the image net labels\n",
    "with open('/content/drive/My Drive/imagenet_classes.txt') as f:\n",
    "    imagenetLabels = [line.strip() for line in f.readlines()]\n",
    "\n",
    "def unpickle(file):\n",
    "    with open(file, \"rb\") as fo:\n",
    "        dict = pickle.load(fo,encoding=\"bytes\")\n",
    "    return dict"
   ]
  },
  {
   "cell_type": "markdown",
   "id": "1139e207",
   "metadata": {},
   "source": [
    "From the 5 batches of training data, I will combine first 4 batches and make training set and make the 5th batch my validation set."
   ]
  },
  {
   "cell_type": "code",
   "execution_count": 4,
   "id": "d19b00f2",
   "metadata": {
    "id": "d19b00f2"
   },
   "outputs": [],
   "source": [
    "#creating empty train, validation, test sets\n",
    "trainingSet = np.empty((4),dtype=object)\n",
    "validationSet = np.empty((1),dtype=object)\n",
    "testSet = np.empty((1),dtype=object)\n",
    "\n",
    "# unpickling train, validation and test sets\n",
    "trainingSet[0] = unpickle(path+\"/data_batch_1\")\n",
    "trainingSet[1] = unpickle(path+\"/data_batch_2\")\n",
    "trainingSet[2] = unpickle(path+\"/data_batch_3\")\n",
    "trainingSet[3] = unpickle(path+\"/data_batch_4\")\n",
    "\n",
    "validationSet[0] = unpickle(path+\"/data_batch_5\")\n",
    "\n",
    "testSet[0] = unpickle(path+\"/test_batch\")\n",
    "\n",
    "metaData = unpickle(path+\"/batches.meta\")"
   ]
  },
  {
   "cell_type": "code",
   "execution_count": 5,
   "id": "b76a22c8",
   "metadata": {
    "colab": {
     "base_uri": "https://localhost:8080/"
    },
    "id": "b76a22c8",
    "outputId": "fdec2c26-966b-4830-8d2d-5bc255b2abca"
   },
   "outputs": [
    {
     "data": {
      "text/plain": [
       "[b'airplane',\n",
       " b'automobile',\n",
       " b'bird',\n",
       " b'cat',\n",
       " b'deer',\n",
       " b'dog',\n",
       " b'frog',\n",
       " b'horse',\n",
       " b'ship',\n",
       " b'truck']"
      ]
     },
     "execution_count": 5,
     "metadata": {},
     "output_type": "execute_result"
    }
   ],
   "source": [
    "metaData[b'label_names']"
   ]
  },
  {
   "cell_type": "code",
   "execution_count": 6,
   "id": "9VE3GtcxXZYL",
   "metadata": {
    "colab": {
     "base_uri": "https://localhost:8080/",
     "height": 294
    },
    "id": "9VE3GtcxXZYL",
    "outputId": "6d8785cf-e088-4348-e7f7-120a6e4d2066"
   },
   "outputs": [
    {
     "data": {
      "text/plain": [
       "(-0.5, 31.5, 31.5, -0.5)"
      ]
     },
     "execution_count": 6,
     "metadata": {},
     "output_type": "execute_result"
    },
    {
     "data": {
      "image/png": "[encoded data removed]",
      "text/plain": [
       "<Figure size 1080x720 with 3 Axes>"
      ]
     },
     "metadata": {
      "needs_background": "light"
     },
     "output_type": "display_data"
    }
   ],
   "source": [
    "# Display some images\n",
    "X = trainingSet[0][b\"data\"] \n",
    "X = X.reshape(10000, 3, 32, 32).transpose(0,2,3,1).astype(\"uint8\")\n",
    "\n",
    "fig = plt.figure(figsize=(15,10))\n",
    "fig.add_subplot(1,3,1)\n",
    "plt.imshow(X[6])\n",
    "plt.axis('off')\n",
    "fig.add_subplot(1,3,2)\n",
    "plt.imshow(X[120])\n",
    "plt.axis('off')\n",
    "fig.add_subplot(1,3,3)\n",
    "plt.imshow(X[360])\n",
    "plt.axis('off')"
   ]
  },
  {
   "cell_type": "markdown",
   "id": "0ba952eb",
   "metadata": {},
   "source": [
    "Now, we need to prepare the data by the follwing classes and fuctions. Each batch is a numpy array. As each row of the array stores a image, I will reshape in 32x32. Then, assign the first 1024 entries which contains the red channel values, the next 1024 the green, and the final 1024 the blue. for labels, the number at index i indicates the label of the ith image in the array data ranging from 0-9. After that, data augmentation will be performed."
   ]
  },
  {
   "cell_type": "code",
   "execution_count": 7,
   "id": "f308a319",
   "metadata": {
    "id": "f308a319"
   },
   "outputs": [],
   "source": [
    "#setting data and label\n",
    "class train(torch.utils.data.Dataset):\n",
    "    def __init__(self,batch,b_type,transform):\n",
    "        self.transform = transform\n",
    "        self.data = np.concatenate((batch[0][b'data'],batch[1][b'data'],batch[2][b'data'],batch[3][b'data']),axis=0)\n",
    "            \n",
    "        self.label = np.concatenate((batch[0][b'labels'],batch[1][b'labels'],batch[2][b'labels'],batch[3][b'labels']))\n",
    "        \n",
    "    def __len__(self):\n",
    "        return len(self.label)\n",
    "\n",
    "    def __getitem__(self,index):\n",
    "        label = self.label[index]\n",
    "        data = self.data[index]\n",
    "\n",
    "        image = np.transpose(np.array([data[:1024].reshape(32,32),data[1024:2048].reshape(32,32),data[2048:].reshape(32,32)]),(1,2,0))\n",
    "\n",
    "        if self.transform is not None:\n",
    "            image = self.transform(image)\n",
    "    \n",
    "        return image, label\n",
    "\n",
    "class test(torch.utils.data.Dataset):\n",
    "    def __init__(self,batch,b_type,transform):\n",
    "        self.transform = transform\n",
    "        self.data = batch[0][b'data']\n",
    "        self.label = batch[0][b'labels']\n",
    "\n",
    "    def __len__(self):\n",
    "        return len(self.label)\n",
    "\n",
    "    def __getitem__(self,index):\n",
    "        label = self.label[index]\n",
    "        data = self.data[index]\n",
    "\n",
    "        image = np.transpose(np.array([data[:1024].reshape(32,32),data[1024:2048].reshape(32,32),data[2048:].reshape(32,32)]),(1,2,0))\n",
    "\n",
    "        if self.transform is not None:\n",
    "            image = self.transform(image)\n",
    "    \n",
    "        return image, label"
   ]
  },
  {
   "cell_type": "code",
   "execution_count": 8,
   "id": "e935b4eb",
   "metadata": {
    "id": "e935b4eb"
   },
   "outputs": [],
   "source": [
    "#data augmentation\n",
    "imageDataGenerator = {\"test\":transforms.Compose([transforms.ToPILImage(),\n",
    "                                       transforms.Resize(224),\n",
    "                                       transforms.ToTensor()])}\n",
    "\n",
    "#final dataset\n",
    "train = DataLoader(train(trainingSet,\"train\",imageDataGenerator[\"test\"]),batch_size=500,shuffle=False)\n",
    "validation = DataLoader(test(validationSet,\"validation\", imageDataGenerator[\"test\"]),batch_size=500,shuffle=False)\n",
    "test = DataLoader(test(testSet,\"test\",imageDataGenerator[\"test\"]),batch_size=500,shuffle=False)"
   ]
  },
  {
   "cell_type": "markdown",
   "id": "dcf24f7a",
   "metadata": {},
   "source": [
    "I will download the alexnet model pretrained with imagenet dataset."
   ]
  },
  {
   "cell_type": "code",
   "execution_count": 9,
   "id": "4eCh07cqt35c",
   "metadata": {
    "colab": {
     "base_uri": "https://localhost:8080/"
    },
    "id": "4eCh07cqt35c",
    "outputId": "f6cf48cd-cd5b-4572-e671-1cfc204b289d"
   },
   "outputs": [
    {
     "data": {
      "text/plain": [
       "AlexNet(\n",
       "  (features): Sequential(\n",
       "    (0): Conv2d(3, 64, kernel_size=(11, 11), stride=(4, 4), padding=(2, 2))\n",
       "    (1): ReLU(inplace=True)\n",
       "    (2): MaxPool2d(kernel_size=3, stride=2, padding=0, dilation=1, ceil_mode=False)\n",
       "    (3): Conv2d(64, 192, kernel_size=(5, 5), stride=(1, 1), padding=(2, 2))\n",
       "    (4): ReLU(inplace=True)\n",
       "    (5): MaxPool2d(kernel_size=3, stride=2, padding=0, dilation=1, ceil_mode=False)\n",
       "    (6): Conv2d(192, 384, kernel_size=(3, 3), stride=(1, 1), padding=(1, 1))\n",
       "    (7): ReLU(inplace=True)\n",
       "    (8): Conv2d(384, 256, kernel_size=(3, 3), stride=(1, 1), padding=(1, 1))\n",
       "    (9): ReLU(inplace=True)\n",
       "    (10): Conv2d(256, 256, kernel_size=(3, 3), stride=(1, 1), padding=(1, 1))\n",
       "    (11): ReLU(inplace=True)\n",
       "    (12): MaxPool2d(kernel_size=3, stride=2, padding=0, dilation=1, ceil_mode=False)\n",
       "  )\n",
       "  (avgpool): AdaptiveAvgPool2d(output_size=(6, 6))\n",
       "  (classifier): Sequential(\n",
       "    (0): Dropout(p=0.5, inplace=False)\n",
       "    (1): Linear(in_features=9216, out_features=4096, bias=True)\n",
       "    (2): ReLU(inplace=True)\n",
       "    (3): Dropout(p=0.5, inplace=False)\n",
       "    (4): Linear(in_features=4096, out_features=4096, bias=True)\n",
       "    (5): ReLU(inplace=True)\n",
       "    (6): Linear(in_features=4096, out_features=1000, bias=True)\n",
       "  )\n",
       ")"
      ]
     },
     "execution_count": 9,
     "metadata": {},
     "output_type": "execute_result"
    }
   ],
   "source": [
    "#importing alexnet\n",
    "AlexNet = models.alexnet(pretrained=True)\n",
    "AlexNet.cuda()"
   ]
  },
  {
   "cell_type": "code",
   "execution_count": 10,
   "id": "gLRj8pZQtAVh",
   "metadata": {
    "colab": {
     "base_uri": "https://localhost:8080/"
    },
    "id": "gLRj8pZQtAVh",
    "outputId": "69f3294c-cdf4-408b-d6e5-400862eb2a0e"
   },
   "outputs": [
    {
     "data": {
      "text/plain": [
       "(10000, 3072)"
      ]
     },
     "execution_count": 10,
     "metadata": {},
     "output_type": "execute_result"
    }
   ],
   "source": [
    "trainingSet[0][b'data'].shape"
   ]
  },
  {
   "cell_type": "markdown",
   "id": "6f76d5f7",
   "metadata": {},
   "source": [
    "Now, i will run through test batch's each image and use alexnet model to make prediction for the image. Through this, I will get our prediction and true label list. from there, I will sort the list to get the top 10 prediction list."
   ]
  },
  {
   "cell_type": "code",
   "execution_count": 11,
   "id": "5bbc7229",
   "metadata": {
    "colab": {
     "base_uri": "https://localhost:8080/"
    },
    "id": "5bbc7229",
    "outputId": "ccf66d75-b3f4-4796-ebc3-d4ec67166588"
   },
   "outputs": [
    {
     "name": "stdout",
     "output_type": "stream",
     "text": [
      "[901 680  80 351 111 190 653 556 712 813]\n",
      "[2476. 1906.  609.  391.  388.  375.  374.  331.  302.  204.]\n",
      "901, whiskey_jug\n",
      "680, nipple\n",
      "80, black_grouse\n",
      "351, hartebeest\n",
      "111, nematode\n",
      "190, Sealyham_terrier\n",
      "653, milk_can\n",
      "556, fire_screen\n",
      "712, Petri_dish\n",
      "813, spatula\n"
     ]
    }
   ],
   "source": [
    "# top predictions from alex net\n",
    "\n",
    "predictionNum = np.zeros(1000)\n",
    "trueLabelNum = np.zeros(10)\n",
    "prediction = []\n",
    "trueLabel = []\n",
    "\n",
    "with torch.no_grad():\n",
    "    for batch, (images,labels) in enumerate(test):\n",
    "        images, labels = images.to(\"cuda\"), labels.to(\"cuda\")\n",
    "            \n",
    "        images = images.float()\n",
    "        labels = labels.type(torch.long) \n",
    "\n",
    "        outputs = AlexNet(images)\n",
    "\n",
    "        m, predictions = torch.max(outputs.data,1)\n",
    "        for i in predictions:\n",
    "            predictionNum[i] += 1\n",
    "        for i in labels:\n",
    "            trueLabelNum[i] += 1\n",
    "        prediction.extend(predictions.to(\"cpu\"))\n",
    "        trueLabel.extend(labels.to(\"cpu\"))\n",
    "\n",
    "\n",
    "topPrediction=  predictionNum.argsort()[-10:][::-1]\n",
    "topPredictionNum = predictionNum[topPrediction]\n",
    "print(topPrediction)\n",
    "print(topPredictionNum)\n",
    "\n",
    "tenFreq = []\n",
    "\n",
    "for i in topPrediction:\n",
    "  tenFreq.append(imagenetLabels[i])\n",
    "  print(imagenetLabels[i])"
   ]
  },
  {
   "cell_type": "markdown",
   "id": "ce5ba6c6",
   "metadata": {},
   "source": [
    "Now, I will extract only the top 10 predicted names from the predicted list."
   ]
  },
  {
   "cell_type": "code",
   "execution_count": 12,
   "id": "acusUK-cFH9u",
   "metadata": {
    "colab": {
     "base_uri": "https://localhost:8080/"
    },
    "id": "acusUK-cFH9u",
    "outputId": "f00202cd-ec6f-4f41-8f1e-626f365754e9"
   },
   "outputs": [
    {
     "data": {
      "text/plain": [
       "[' whiskey_jug',\n",
       " ' nipple',\n",
       " 'black_grouse',\n",
       " ' hartebeest',\n",
       " ' nematode',\n",
       " ' Sealyham_terrier',\n",
       " ' milk_can',\n",
       " ' fire_screen',\n",
       " ' Petri_dish',\n",
       " ' spatula']"
      ]
     },
     "execution_count": 12,
     "metadata": {},
     "output_type": "execute_result"
    }
   ],
   "source": [
    "predicted_names = []\n",
    "for i in topPrediction:\n",
    "  predicted_names.append(imagenetLabels[i][4:])\n",
    "predicted_names"
   ]
  },
  {
   "cell_type": "markdown",
   "id": "27cc831e",
   "metadata": {
    "id": "27cc831e"
   },
   "source": [
    "After that, I will create the confusion matrix. First, a list with top predictions according to label count is created. Then, a list with true value according to label count is created. Combining both the list, the confusion matrix is created."
   ]
  },
  {
   "cell_type": "code",
   "execution_count": 13,
   "id": "32502872",
   "metadata": {
    "colab": {
     "base_uri": "https://localhost:8080/",
     "height": 606
    },
    "id": "32502872",
    "outputId": "834f5cc6-80c8-4bca-ec90-3d0052e8300a"
   },
   "outputs": [
    {
     "data": {
      "image/png": "[encoded data removed]",
      "text/plain": [
       "<Figure size 1080x720 with 2 Axes>"
      ]
     },
     "metadata": {
      "needs_background": "light"
     },
     "output_type": "display_data"
    }
   ],
   "source": [
    "# Build confusion matrix\n",
    "predictedArr = np.array(prediction)\n",
    "trueArr = np.array(trueLabel)\n",
    "\n",
    "TopPredict = [imagenetLabels[i] for i in predictedArr]  \n",
    "\n",
    "index = [] \n",
    "for idx,each in enumerate(TopPredict):\n",
    "    if each in tenFreq:\n",
    "        index.append(idx)\n",
    "\n",
    "predictedValue = [tenFreq.index(TopPredict[i]) for i in index] \n",
    "\n",
    "trueValue = [trueArr[i] for i in index] \n",
    "\n",
    "Matrix= confusion_matrix(trueValue, predictedValue)\n",
    "\n",
    "fig = plt.figure(figsize=(15,10))\n",
    "ax= plt.subplot()\n",
    "sn.heatmap(Matrix,cmap = \"Pastel1\", annot=True, ax = ax, fmt = 'g');\n",
    "ax.set_xlabel('Predicted Value')\n",
    "ax.xaxis.set_ticklabels(predicted_names)\n",
    "ax.set_ylabel('True Value')\n",
    "ax.yaxis.set_ticklabels(['Airplane', 'Car', 'Bird', 'Cat', 'Deer', 'Dog', 'Frog', 'Horse', 'Ship', 'Truck'])\n",
    "\n",
    "plt.show()"
   ]
  },
  {
   "cell_type": "markdown",
   "id": "fe1a8cd9",
   "metadata": {},
   "source": [
    "Downloading the alexnet model pretrained with imagenet dataset."
   ]
  },
  {
   "cell_type": "code",
   "execution_count": 14,
   "id": "BH0DutaJJORJ",
   "metadata": {
    "colab": {
     "base_uri": "https://localhost:8080/"
    },
    "id": "BH0DutaJJORJ",
    "outputId": "7a2e3c89-028b-436f-dc1f-ab17e1b14fc8"
   },
   "outputs": [
    {
     "data": {
      "text/plain": [
       "AlexNet(\n",
       "  (features): Sequential(\n",
       "    (0): Conv2d(3, 64, kernel_size=(11, 11), stride=(4, 4), padding=(2, 2))\n",
       "    (1): ReLU(inplace=True)\n",
       "    (2): MaxPool2d(kernel_size=3, stride=2, padding=0, dilation=1, ceil_mode=False)\n",
       "    (3): Conv2d(64, 192, kernel_size=(5, 5), stride=(1, 1), padding=(2, 2))\n",
       "    (4): ReLU(inplace=True)\n",
       "    (5): MaxPool2d(kernel_size=3, stride=2, padding=0, dilation=1, ceil_mode=False)\n",
       "    (6): Conv2d(192, 384, kernel_size=(3, 3), stride=(1, 1), padding=(1, 1))\n",
       "    (7): ReLU(inplace=True)\n",
       "    (8): Conv2d(384, 256, kernel_size=(3, 3), stride=(1, 1), padding=(1, 1))\n",
       "    (9): ReLU(inplace=True)\n",
       "    (10): Conv2d(256, 256, kernel_size=(3, 3), stride=(1, 1), padding=(1, 1))\n",
       "    (11): ReLU(inplace=True)\n",
       "    (12): MaxPool2d(kernel_size=3, stride=2, padding=0, dilation=1, ceil_mode=False)\n",
       "  )\n",
       "  (avgpool): AdaptiveAvgPool2d(output_size=(6, 6))\n",
       "  (classifier): Sequential(\n",
       "    (0): Dropout(p=0.5, inplace=False)\n",
       "    (1): Linear(in_features=9216, out_features=4096, bias=True)\n",
       "    (2): ReLU(inplace=True)\n",
       "    (3): Dropout(p=0.5, inplace=False)\n",
       "    (4): Linear(in_features=4096, out_features=4096, bias=True)\n",
       "    (5): ReLU(inplace=True)\n",
       "    (6): Linear(in_features=4096, out_features=1000, bias=True)\n",
       "  )\n",
       ")"
      ]
     },
     "execution_count": 14,
     "metadata": {},
     "output_type": "execute_result"
    }
   ],
   "source": [
    "AlexNet2 = models.alexnet(pretrained=True)\n",
    "AlexNet2.cuda()"
   ]
  },
  {
   "cell_type": "markdown",
   "id": "6f68830e",
   "metadata": {},
   "source": [
    "From the alexnet classifier, removing the last 2 fully connected layers."
   ]
  },
  {
   "cell_type": "code",
   "execution_count": 15,
   "id": "93941e03",
   "metadata": {
    "colab": {
     "base_uri": "https://localhost:8080/"
    },
    "id": "93941e03",
    "outputId": "9ddbe999-f3a6-4b93-e9ea-ecfcb00c5fb9"
   },
   "outputs": [
    {
     "data": {
      "text/plain": [
       "AlexNet(\n",
       "  (features): Sequential(\n",
       "    (0): Conv2d(3, 64, kernel_size=(11, 11), stride=(4, 4), padding=(2, 2))\n",
       "    (1): ReLU(inplace=True)\n",
       "    (2): MaxPool2d(kernel_size=3, stride=2, padding=0, dilation=1, ceil_mode=False)\n",
       "    (3): Conv2d(64, 192, kernel_size=(5, 5), stride=(1, 1), padding=(2, 2))\n",
       "    (4): ReLU(inplace=True)\n",
       "    (5): MaxPool2d(kernel_size=3, stride=2, padding=0, dilation=1, ceil_mode=False)\n",
       "    (6): Conv2d(192, 384, kernel_size=(3, 3), stride=(1, 1), padding=(1, 1))\n",
       "    (7): ReLU(inplace=True)\n",
       "    (8): Conv2d(384, 256, kernel_size=(3, 3), stride=(1, 1), padding=(1, 1))\n",
       "    (9): ReLU(inplace=True)\n",
       "    (10): Conv2d(256, 256, kernel_size=(3, 3), stride=(1, 1), padding=(1, 1))\n",
       "    (11): ReLU(inplace=True)\n",
       "    (12): MaxPool2d(kernel_size=3, stride=2, padding=0, dilation=1, ceil_mode=False)\n",
       "  )\n",
       "  (avgpool): AdaptiveAvgPool2d(output_size=(6, 6))\n",
       "  (classifier): Sequential(\n",
       "    (0): Dropout(p=0.5, inplace=False)\n",
       "    (1): Linear(in_features=9216, out_features=4096, bias=True)\n",
       "  )\n",
       ")"
      ]
     },
     "execution_count": 15,
     "metadata": {},
     "output_type": "execute_result"
    }
   ],
   "source": [
    "AlexNet2.classifier = nn.Sequential(\n",
    "    nn.Dropout(0.5,False),\n",
    "    nn.Linear(9216,4096,True)\n",
    ")\n",
    "AlexNet2.cuda()"
   ]
  },
  {
   "cell_type": "markdown",
   "id": "07104124",
   "metadata": {},
   "source": [
    "Now, the following method will run through the train, validation and test datasets's each image and use alexnet model to make feature extraction. Through this, I will get our output and label list. from there, will convert both list to nparray to prepare it for logistic regression."
   ]
  },
  {
   "cell_type": "code",
   "execution_count": 16,
   "id": "GyK_3qkWKHnd",
   "metadata": {
    "id": "GyK_3qkWKHnd"
   },
   "outputs": [],
   "source": [
    "def output(model, data):\n",
    "\n",
    "    labelset = [] \n",
    "    dataset = [] \n",
    "    with torch.no_grad():\n",
    "        for batch, (images,labels) in enumerate(data):\n",
    "            images, labels = images.to(\"cuda\"), labels.to(\"cuda\")\n",
    "\n",
    "            images = images.float()\n",
    "            labels = labels.type(torch.long)\n",
    "\n",
    "            pred = model(images)\n",
    "            pred = pred.cpu().detach().numpy()\n",
    "\n",
    "            labelset.extend(labels.to(\"cpu\"))\n",
    "            dataset.extend(pred)\n",
    "\n",
    "    labelset= np.array(labelset)\n",
    "    dataset = np.array(dataset)\n",
    "    return dataset, labelset"
   ]
  },
  {
   "cell_type": "code",
   "execution_count": 17,
   "id": "5ba6ff8a",
   "metadata": {
    "id": "5ba6ff8a"
   },
   "outputs": [],
   "source": [
    "# output of training data\n",
    "trainOutput, trainLabels = output(AlexNet2,train)"
   ]
  },
  {
   "cell_type": "code",
   "execution_count": 18,
   "id": "4fe5f7b5",
   "metadata": {
    "id": "4fe5f7b5"
   },
   "outputs": [],
   "source": [
    "# output of validation data\n",
    "validOutput, validLabels = output(AlexNet2,validation)"
   ]
  },
  {
   "cell_type": "code",
   "execution_count": 19,
   "id": "f3f85591",
   "metadata": {
    "id": "f3f85591"
   },
   "outputs": [],
   "source": [
    "# output of test data\n",
    "testOutput, testLabels = output(AlexNet2,test)"
   ]
  },
  {
   "cell_type": "markdown",
   "id": "ef6e634a",
   "metadata": {
    "id": "ef6e634a"
   },
   "source": [
    "Now, I will train a logistic regression classifier on the features extracted by the fc6 layer."
   ]
  },
  {
   "cell_type": "code",
   "execution_count": 20,
   "id": "99111545",
   "metadata": {
    "id": "99111545"
   },
   "outputs": [],
   "source": [
    "#logistic regression model\n",
    "\n",
    "logisticRegression = LogisticRegression(verbose=1,n_jobs=-1,solver='lbfgs',penalty='l2')\n"
   ]
  },
  {
   "cell_type": "code",
   "execution_count": 21,
   "id": "1d38ee69",
   "metadata": {
    "colab": {
     "base_uri": "https://localhost:8080/"
    },
    "id": "1d38ee69",
    "outputId": "d6bcbf19-9ae3-4d96-e993-0084a2111281"
   },
   "outputs": [
    {
     "name": "stderr",
     "output_type": "stream",
     "text": [
      "[Parallel(n_jobs=-1)]: Using backend LokyBackend with 2 concurrent workers.\n",
      "[Parallel(n_jobs=-1)]: Done   1 out of   1 | elapsed:  6.1min finished\n"
     ]
    },
    {
     "data": {
      "text/plain": [
       "LogisticRegression(n_jobs=-1, verbose=1)"
      ]
     },
     "execution_count": 21,
     "metadata": {},
     "output_type": "execute_result"
    }
   ],
   "source": [
    "# fit the model\n",
    "logisticRegression.fit(trainOutput,trainLabels)"
   ]
  },
  {
   "cell_type": "markdown",
   "id": "7db6aac4",
   "metadata": {},
   "source": [
    "Now, the train, validation and test accuracy are gained from the trained model."
   ]
  },
  {
   "cell_type": "code",
   "execution_count": 22,
   "id": "ac0f88e4",
   "metadata": {
    "colab": {
     "base_uri": "https://localhost:8080/"
    },
    "id": "ac0f88e4",
    "outputId": "6b39d99f-e2b0-4706-c199-ec43fb52601a"
   },
   "outputs": [
    {
     "name": "stdout",
     "output_type": "stream",
     "text": [
      "Training accuracy:  84.245 %\n",
      "Validaction accuracy:  65.64999999999999 %\n",
      "Test accuracy:  65.5 %\n"
     ]
    }
   ],
   "source": [
    "#  training accuracy\n",
    "trainAccuracy = logisticRegression.score(trainOutput,trainLabels)\n",
    "print(\"Training accuracy: \",trainAccuracy*100,\"%\")\n",
    "\n",
    "#  validation accuracy\n",
    "validAccuracy = logisticRegression.score(validOutput,validLabels)\n",
    "print(\"Validaction accuracy: \", validAccuracy*100,\"%\")\n",
    "\n",
    "#  test and accuracy\n",
    "testAccuracy = logisticRegression.score(testOutput,testLabels)\n",
    "print(\"Test accuracy: \", testAccuracy*100,\"%\")\n"
   ]
  },
  {
   "cell_type": "markdown",
   "id": "cd638e33",
   "metadata": {},
   "source": [
    "Downloading the alexnet model pretrained with imagenet dataset."
   ]
  },
  {
   "cell_type": "code",
   "execution_count": 23,
   "id": "6U7nf_X4l7Hl",
   "metadata": {
    "colab": {
     "base_uri": "https://localhost:8080/"
    },
    "id": "6U7nf_X4l7Hl",
    "outputId": "ebbfca06-ef39-49d3-a30d-bcc94064cdee"
   },
   "outputs": [
    {
     "data": {
      "text/plain": [
       "AlexNet(\n",
       "  (features): Sequential(\n",
       "    (0): Conv2d(3, 64, kernel_size=(11, 11), stride=(4, 4), padding=(2, 2))\n",
       "    (1): ReLU(inplace=True)\n",
       "    (2): MaxPool2d(kernel_size=3, stride=2, padding=0, dilation=1, ceil_mode=False)\n",
       "    (3): Conv2d(64, 192, kernel_size=(5, 5), stride=(1, 1), padding=(2, 2))\n",
       "    (4): ReLU(inplace=True)\n",
       "    (5): MaxPool2d(kernel_size=3, stride=2, padding=0, dilation=1, ceil_mode=False)\n",
       "    (6): Conv2d(192, 384, kernel_size=(3, 3), stride=(1, 1), padding=(1, 1))\n",
       "    (7): ReLU(inplace=True)\n",
       "    (8): Conv2d(384, 256, kernel_size=(3, 3), stride=(1, 1), padding=(1, 1))\n",
       "    (9): ReLU(inplace=True)\n",
       "    (10): Conv2d(256, 256, kernel_size=(3, 3), stride=(1, 1), padding=(1, 1))\n",
       "    (11): ReLU(inplace=True)\n",
       "    (12): MaxPool2d(kernel_size=3, stride=2, padding=0, dilation=1, ceil_mode=False)\n",
       "  )\n",
       "  (avgpool): AdaptiveAvgPool2d(output_size=(6, 6))\n",
       "  (classifier): Sequential(\n",
       "    (0): Dropout(p=0.5, inplace=False)\n",
       "    (1): Linear(in_features=9216, out_features=4096, bias=True)\n",
       "    (2): ReLU(inplace=True)\n",
       "    (3): Dropout(p=0.5, inplace=False)\n",
       "    (4): Linear(in_features=4096, out_features=4096, bias=True)\n",
       "    (5): ReLU(inplace=True)\n",
       "    (6): Linear(in_features=4096, out_features=1000, bias=True)\n",
       "  )\n",
       ")"
      ]
     },
     "execution_count": 23,
     "metadata": {},
     "output_type": "execute_result"
    }
   ],
   "source": [
    "AlexNet3 = models.alexnet(pretrained=True)\n",
    "AlexNet3.cuda()"
   ]
  },
  {
   "cell_type": "markdown",
   "id": "c88eefaa",
   "metadata": {},
   "source": [
    "From the alexnet classifier, removing the last fully connected layer."
   ]
  },
  {
   "cell_type": "code",
   "execution_count": 24,
   "id": "b86458c4",
   "metadata": {
    "colab": {
     "base_uri": "https://localhost:8080/"
    },
    "id": "b86458c4",
    "outputId": "387da32c-5a86-4dc7-bee0-2dfc91adbed1"
   },
   "outputs": [
    {
     "data": {
      "text/plain": [
       "AlexNet(\n",
       "  (features): Sequential(\n",
       "    (0): Conv2d(3, 64, kernel_size=(11, 11), stride=(4, 4), padding=(2, 2))\n",
       "    (1): ReLU(inplace=True)\n",
       "    (2): MaxPool2d(kernel_size=3, stride=2, padding=0, dilation=1, ceil_mode=False)\n",
       "    (3): Conv2d(64, 192, kernel_size=(5, 5), stride=(1, 1), padding=(2, 2))\n",
       "    (4): ReLU(inplace=True)\n",
       "    (5): MaxPool2d(kernel_size=3, stride=2, padding=0, dilation=1, ceil_mode=False)\n",
       "    (6): Conv2d(192, 384, kernel_size=(3, 3), stride=(1, 1), padding=(1, 1))\n",
       "    (7): ReLU(inplace=True)\n",
       "    (8): Conv2d(384, 256, kernel_size=(3, 3), stride=(1, 1), padding=(1, 1))\n",
       "    (9): ReLU(inplace=True)\n",
       "    (10): Conv2d(256, 256, kernel_size=(3, 3), stride=(1, 1), padding=(1, 1))\n",
       "    (11): ReLU(inplace=True)\n",
       "    (12): MaxPool2d(kernel_size=3, stride=2, padding=0, dilation=1, ceil_mode=False)\n",
       "  )\n",
       "  (avgpool): AdaptiveAvgPool2d(output_size=(6, 6))\n",
       "  (classifier): Sequential(\n",
       "    (0): Dropout(p=0.5, inplace=False)\n",
       "    (1): Linear(in_features=9216, out_features=4096, bias=True)\n",
       "    (2): ReLU(inplace=True)\n",
       "    (3): Dropout(p=0.5, inplace=False)\n",
       "    (4): Linear(in_features=4096, out_features=4096, bias=True)\n",
       "  )\n",
       ")"
      ]
     },
     "execution_count": 24,
     "metadata": {},
     "output_type": "execute_result"
    }
   ],
   "source": [
    "\n",
    "AlexNet3.classifier = nn.Sequential(\n",
    "    nn.Dropout(0.5,False),\n",
    "    nn.Linear(9216,4096,True),\n",
    "    nn.ReLU(True),\n",
    "    nn.Dropout(0.5,False),\n",
    "    nn.Linear(4096,4096,True)   \n",
    ")\n",
    "AlexNet3.cuda()"
   ]
  },
  {
   "cell_type": "code",
   "execution_count": 25,
   "id": "1db44780",
   "metadata": {
    "id": "1db44780"
   },
   "outputs": [],
   "source": [
    "# output of training data\n",
    "trainOutput2, trainLabels2 = output(AlexNet3,train)"
   ]
  },
  {
   "cell_type": "code",
   "execution_count": 26,
   "id": "ygkDUxFamW8O",
   "metadata": {
    "id": "ygkDUxFamW8O"
   },
   "outputs": [],
   "source": [
    "# output of validation data\n",
    "validOutput2, validLabels2 = output(AlexNet3,validation)"
   ]
  },
  {
   "cell_type": "code",
   "execution_count": 27,
   "id": "9bI0WOeGmegG",
   "metadata": {
    "id": "9bI0WOeGmegG"
   },
   "outputs": [],
   "source": [
    "# output of test data\n",
    "testOutput2, testLabels2 = output(AlexNet3,test)"
   ]
  },
  {
   "cell_type": "markdown",
   "id": "c7d8f855",
   "metadata": {
    "id": "c7d8f855"
   },
   "source": [
    "Now, I will train a logistic regression classifier on the features extracted by the fc6 layer."
   ]
  },
  {
   "cell_type": "code",
   "execution_count": 28,
   "id": "f40a7405",
   "metadata": {
    "id": "f40a7405"
   },
   "outputs": [],
   "source": [
    "#logistic regression model\n",
    "\n",
    "logisticRegression2 = LogisticRegression(verbose=1,n_jobs=-1,solver='lbfgs',penalty='l2')\n"
   ]
  },
  {
   "cell_type": "code",
   "execution_count": 29,
   "id": "c141a90e",
   "metadata": {
    "colab": {
     "base_uri": "https://localhost:8080/"
    },
    "id": "c141a90e",
    "outputId": "c77d98ea-d501-4a26-b5ad-8192ec4549c2"
   },
   "outputs": [
    {
     "name": "stderr",
     "output_type": "stream",
     "text": [
      "[Parallel(n_jobs=-1)]: Using backend LokyBackend with 2 concurrent workers.\n",
      "[Parallel(n_jobs=-1)]: Done   1 out of   1 | elapsed:  6.5min finished\n"
     ]
    },
    {
     "data": {
      "text/plain": [
       "LogisticRegression(n_jobs=-1, verbose=1)"
      ]
     },
     "execution_count": 29,
     "metadata": {},
     "output_type": "execute_result"
    }
   ],
   "source": [
    "# fit the model\n",
    "logisticRegression2.fit(trainOutput2,trainLabels2)"
   ]
  },
  {
   "cell_type": "markdown",
   "id": "53d9417e",
   "metadata": {},
   "source": [
    "Now, the train, validation and test accuracy are gained from the trained model."
   ]
  },
  {
   "cell_type": "code",
   "execution_count": 30,
   "id": "1cf83440",
   "metadata": {
    "colab": {
     "base_uri": "https://localhost:8080/"
    },
    "id": "1cf83440",
    "outputId": "818c82e7-3174-4db6-f90a-81423e33b222"
   },
   "outputs": [
    {
     "name": "stdout",
     "output_type": "stream",
     "text": [
      "Training accuracy:  72.345 %\n",
      "Validaction accuracy:  48.449999999999996 %\n",
      "Test accuracy:  48.63 %\n"
     ]
    }
   ],
   "source": [
    "# training accuracy\n",
    "trainAccuracy2 = logisticRegression2.score(trainOutput2,trainLabels2)\n",
    "print(\"Training accuracy: \",trainAccuracy2*100,\"%\")\n",
    "\n",
    "# validation accuracy\n",
    "validAccuracy2 = logisticRegression2.score(validOutput2,validLabels2)\n",
    "print(\"Validaction accuracy: \", validAccuracy2*100,\"%\")\n",
    "\n",
    "# test and accuracy\n",
    "testAccuracy2 = logisticRegression2.score(testOutput2,testLabels2)\n",
    "print(\"Test accuracy: \", testAccuracy2*100,\"%\")\n"
   ]
  },
  {
   "cell_type": "code",
   "execution_count": 40,
   "id": "cCSrXxqffMcj",
   "metadata": {
    "colab": {
     "base_uri": "https://localhost:8080/",
     "height": 238
    },
    "id": "cCSrXxqffMcj",
    "outputId": "0504fe45-81d6-46c9-e0c7-775402edad4b"
   },
   "outputs": [
    {
     "data": {
      "text/html": [
       "\n",
       "  <div id=\"df-0d7d79b6-5190-4cd7-944f-389a96ca2935\">\n",
       "    <div class=\"colab-df-container\">\n",
       "      <div>\n",
       "<style scoped>\n",
       "    .dataframe tbody tr th:only-of-type {\n",
       "        vertical-align: middle;\n",
       "    }\n",
       "\n",
       "    .dataframe tbody tr th {\n",
       "        vertical-align: top;\n",
       "    }\n",
       "\n",
       "    .dataframe thead th {\n",
       "        text-align: right;\n",
       "    }\n",
       "</style>\n",
       "<table border=\"1\" class=\"dataframe\">\n",
       "  <thead>\n",
       "    <tr style=\"text-align: right;\">\n",
       "      <th></th>\n",
       "      <th>Layer</th>\n",
       "      <th>Dataset</th>\n",
       "      <th>Score</th>\n",
       "    </tr>\n",
       "  </thead>\n",
       "  <tbody>\n",
       "    <tr>\n",
       "      <th>0</th>\n",
       "      <td>fc6</td>\n",
       "      <td>Training Accuracy</td>\n",
       "      <td>84.24</td>\n",
       "    </tr>\n",
       "    <tr>\n",
       "      <th>1</th>\n",
       "      <td>fc6</td>\n",
       "      <td>Validation Accuracy</td>\n",
       "      <td>65.65</td>\n",
       "    </tr>\n",
       "    <tr>\n",
       "      <th>2</th>\n",
       "      <td>fc6</td>\n",
       "      <td>Test Accuracy</td>\n",
       "      <td>65.50</td>\n",
       "    </tr>\n",
       "    <tr>\n",
       "      <th>3</th>\n",
       "      <td>fc7</td>\n",
       "      <td>Training Accuracy</td>\n",
       "      <td>72.34</td>\n",
       "    </tr>\n",
       "    <tr>\n",
       "      <th>4</th>\n",
       "      <td>fc7</td>\n",
       "      <td>Validation Accuracy</td>\n",
       "      <td>48.45</td>\n",
       "    </tr>\n",
       "    <tr>\n",
       "      <th>5</th>\n",
       "      <td>fc7</td>\n",
       "      <td>Test Accuracy</td>\n",
       "      <td>48.63</td>\n",
       "    </tr>\n",
       "  </tbody>\n",
       "</table>\n",
       "</div>\n",
       "      <button class=\"colab-df-convert\" onclick=\"convertToInteractive('df-0d7d79b6-5190-4cd7-944f-389a96ca2935')\"\n",
       "              title=\"Convert this dataframe to an interactive table.\"\n",
       "              style=\"display:none;\">\n",
       "        \n",
       "  <svg xmlns=\"http://www.w3.org/2000/svg\" height=\"24px\"viewBox=\"0 0 24 24\"\n",
       "       width=\"24px\">\n",
       "    <path d=\"M0 0h24v24H0V0z\" fill=\"none\"/>\n",
       "    <path d=\"M18.56 5.44l.94 2.06.94-2.06 2.06-.94-2.06-.94-.94-2.06-.94 2.06-2.06.94zm-11 1L8.5 8.5l.94-2.06 2.06-.94-2.06-.94L8.5 2.5l-.94 2.06-2.06.94zm10 10l.94 2.06.94-2.06 2.06-.94-2.06-.94-.94-2.06-.94 2.06-2.06.94z\"/><path d=\"M17.41 7.96l-1.37-1.37c-.4-.4-.92-.59-1.43-.59-.52 0-1.04.2-1.43.59L10.3 9.45l-7.72 7.72c-.78.78-.78 2.05 0 2.83L4 21.41c.39.39.9.59 1.41.59.51 0 1.02-.2 1.41-.59l7.78-7.78 2.81-2.81c.8-.78.8-2.07 0-2.86zM5.41 20L4 18.59l7.72-7.72 1.47 1.35L5.41 20z\"/>\n",
       "  </svg>\n",
       "      </button>\n",
       "      \n",
       "  <style>\n",
       "    .colab-df-container {\n",
       "      display:flex;\n",
       "      flex-wrap:wrap;\n",
       "      gap: 12px;\n",
       "    }\n",
       "\n",
       "    .colab-df-convert {\n",
       "      background-color: #E8F0FE;\n",
       "      border: none;\n",
       "      border-radius: 50%;\n",
       "      cursor: pointer;\n",
       "      display: none;\n",
       "      fill: #1967D2;\n",
       "      height: 32px;\n",
       "      padding: 0 0 0 0;\n",
       "      width: 32px;\n",
       "    }\n",
       "\n",
       "    .colab-df-convert:hover {\n",
       "      background-color: #E2EBFA;\n",
       "      box-shadow: 0px 1px 2px rgba(60, 64, 67, 0.3), 0px 1px 3px 1px rgba(60, 64, 67, 0.15);\n",
       "      fill: #174EA6;\n",
       "    }\n",
       "\n",
       "    [theme=dark] .colab-df-convert {\n",
       "      background-color: #3B4455;\n",
       "      fill: #D2E3FC;\n",
       "    }\n",
       "\n",
       "    [theme=dark] .colab-df-convert:hover {\n",
       "      background-color: #434B5C;\n",
       "      box-shadow: 0px 1px 3px 1px rgba(0, 0, 0, 0.15);\n",
       "      filter: drop-shadow(0px 1px 2px rgba(0, 0, 0, 0.3));\n",
       "      fill: #FFFFFF;\n",
       "    }\n",
       "  </style>\n",
       "\n",
       "      <script>\n",
       "        const buttonEl =\n",
       "          document.querySelector('#df-0d7d79b6-5190-4cd7-944f-389a96ca2935 button.colab-df-convert');\n",
       "        buttonEl.style.display =\n",
       "          google.colab.kernel.accessAllowed ? 'block' : 'none';\n",
       "\n",
       "        async function convertToInteractive(key) {\n",
       "          const element = document.querySelector('#df-0d7d79b6-5190-4cd7-944f-389a96ca2935');\n",
       "          const dataTable =\n",
       "            await google.colab.kernel.invokeFunction('convertToInteractive',\n",
       "                                                     [key], {});\n",
       "          if (!dataTable) return;\n",
       "\n",
       "          const docLinkHtml = 'Like what you see? Visit the ' +\n",
       "            '<a target=\"_blank\" href=https://colab.research.google.com/notebooks/data_table.ipynb>data table notebook</a>'\n",
       "            + ' to learn more about interactive tables.';\n",
       "          element.innerHTML = '';\n",
       "          dataTable['output_type'] = 'display_data';\n",
       "          await google.colab.output.renderOutput(dataTable, element);\n",
       "          const docLink = document.createElement('div');\n",
       "          docLink.innerHTML = docLinkHtml;\n",
       "          element.appendChild(docLink);\n",
       "        }\n",
       "      </script>\n",
       "    </div>\n",
       "  </div>\n",
       "  "
      ],
      "text/plain": [
       "  Layer              Dataset  Score\n",
       "0   fc6    Training Accuracy  84.24\n",
       "1   fc6  Validation Accuracy  65.65\n",
       "2   fc6        Test Accuracy  65.50\n",
       "3   fc7    Training Accuracy  72.34\n",
       "4   fc7  Validation Accuracy  48.45\n",
       "5   fc7        Test Accuracy  48.63"
      ]
     },
     "execution_count": 40,
     "metadata": {},
     "output_type": "execute_result"
    }
   ],
   "source": [
    "#Comparison\n",
    "models = pd.DataFrame({\n",
    "    'Layer': ['fc6', \n",
    "              'fc6',\n",
    "              'fc6',\n",
    "              'fc7',\n",
    "              'fc7',\n",
    "              'fc7'],\n",
    "    'Dataset': ['Training Accuracy', \n",
    "              'Validation Accuracy',\n",
    "             'Test Accuracy',\n",
    "             'Training Accuracy',\n",
    "             'Validation Accuracy',\n",
    "             'Test Accuracy'],\n",
    "    'Score': [round(trainAccuracy*100,2),round(validAccuracy*100,2), round(testAccuracy*100,2), round(trainAccuracy2*100,2),round(validAccuracy2*100,2), round(testAccuracy2*100,2)]})\n",
    "models.sort_values(by='Layer',ascending=True)"
   ]
  },
  {
   "cell_type": "markdown",
   "id": "5e6c88ef",
   "metadata": {},
   "source": [
    "We can see that, the fc6 layers output gives us better result than fc7. In both cases, we can see validation accuracy is much less than training accuracy which can indicate data overfitting. The result indicates that the earlier fully connected layers may contain valuable information about the features of the images. Extracting feature vectors can result in higher accuracies achievable by selecting the best layer for feature extraction. In this case, fc6 layer turned out to be the best layer for feature extraction. Going from fc6 to fc7 layer caused loss of valuable feature information which can be noticed from the test accuracy of fc7 layer output."
   ]
  }
 ],
 "metadata": {
  "accelerator": "GPU",
  "colab": {
   "name": "Assignment_4.ipynb",
   "provenance": []
  },
  "kernelspec": {
   "display_name": "Python 3 (ipykernel)",
   "language": "python",
   "name": "python3"
  },
  "language_info": {
   "codemirror_mode": {
    "name": "ipython",
    "version": 3
   },
   "file_extension": ".py",
   "mimetype": "text/x-python",
   "name": "python",
   "nbconvert_exporter": "python",
   "pygments_lexer": "ipython3",
   "version": "3.7.13"
  }
 },
 "nbformat": 4,
 "nbformat_minor": 5
}
